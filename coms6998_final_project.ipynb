{
  "nbformat": 4,
  "nbformat_minor": 0,
  "metadata": {
    "colab": {
      "provenance": [],
      "toc_visible": true
    },
    "kernelspec": {
      "name": "python3",
      "display_name": "Python 3"
    },
    "language_info": {
      "name": "python"
    }
  },
  "cells": [
    {
      "cell_type": "markdown",
      "source": [
        "# Overview\n",
        "This workbook does the following:\n",
        "\n",
        "\n",
        "1.   Import Raw Data\n",
        "2.   Create a all_func_grouped DF\n",
        "3.   Creates a dictionary of DFs for all the sub functions\n",
        "\n"
      ],
      "metadata": {
        "id": "BsdfrqUqXttz"
      }
    },
    {
      "cell_type": "code",
      "execution_count": null,
      "metadata": {
        "id": "XJc4XVn7KP8K"
      },
      "outputs": [],
      "source": [
        "# Only for Google Colab\n",
        "from google.colab import drive\n",
        "drive.mount('/content/drive')"
      ]
    },
    {
      "cell_type": "code",
      "source": [
        "# Necessary Imports\n",
        "import numpy as np\n",
        "import pandas as pd\n",
        "import matplotlib.pyplot as plt\n",
        "import matplotlib as mpl\n",
        "import plotly.graph_objects as go\n",
        "import seaborn as sns\n",
        "import plotly.express as px\n",
        "import datetime\n",
        "plt.rcParams['figure.figsize'] = (50, 20)  # Set figure size"
      ],
      "metadata": {
        "id": "NOCDQfaZLI6X"
      },
      "execution_count": null,
      "outputs": []
    },
    {
      "cell_type": "code",
      "source": [
        "# Read in the raw data, then create a time value based on the end_timestamp\n",
        "df = pd.read_csv(\"/content/drive/MyDrive/small_data_no_head.csv\")\n",
        "df['time'] = [datetime.datetime(2021,1,31) + datetime.timedelta(seconds=x) for x in df['end_timestamp']]\n",
        "\n",
        "# Dataframe summarized\n",
        "print(f\"Number of Unique Applications: {len(set(df['func']))}\")\n",
        "df.info()\n",
        "df.head()\n"
      ],
      "metadata": {
        "id": "BaILyTPVLU9S"
      },
      "execution_count": null,
      "outputs": []
    },
    {
      "cell_type": "code",
      "source": [
        "# Plotting Raw Data\n",
        "\n",
        "plt.plot(df['time'], df['duration'], 'o-')\n",
        "ax = plt.gca()\n",
        "ax.set_xlim([min(df['time']), max(df['time'])])\n",
        "ax.set_ylim([min(df['duration']), max(df['duration'])])\n",
        "plt.title('Duration Over Time (ALL APPLICATIONS)',  fontsize=40)\n",
        "plt.xlabel('End Timestamp', fontsize=20)\n",
        "plt.ylabel('Function Runtime Duration', fontsize=20)\n",
        "plt.show()"
      ],
      "metadata": {
        "id": "szWmpJvLOt19"
      },
      "execution_count": null,
      "outputs": []
    },
    {
      "cell_type": "markdown",
      "source": [
        "# Preparing the all_func_grouped\n",
        "Now we need to convert this format to a time series usable format"
      ],
      "metadata": {
        "id": "wN95htK_SMId"
      }
    },
    {
      "cell_type": "code",
      "source": [
        "# We need to bin all the data\n",
        "\n",
        "# Bin the timestamps into 10-minute intervals\n",
        "df['time_bin'] = df['time'].dt.floor('10T')  # Floor the timestamps to the nearest 10 minutes\n",
        "\n",
        "# Group by these intervals and count the number of instances\n",
        "grouped = df.groupby('time_bin').size().reset_index(name='count')\n",
        "\n",
        "# Set the intervals as the index (optional)\n",
        "grouped.set_index('time_bin', inplace=True)\n",
        "\n",
        "grouped.info()"
      ],
      "metadata": {
        "id": "NQJNOx4JSPAy"
      },
      "execution_count": null,
      "outputs": []
    },
    {
      "source": [
        "# Distribution of the number of instances per bin\n",
        "grouped['count'].plot(kind='hist', bins=20, title='count')\n",
        "plt.gca().spines[['top', 'right',]].set_visible(False)"
      ],
      "cell_type": "code",
      "metadata": {
        "id": "SZhRMJ-YTM_N"
      },
      "execution_count": null,
      "outputs": []
    },
    {
      "source": [
        "# Number of instances over time, this is what we really want to predict\n",
        "grouped['count'].plot(kind='line', figsize=(8, 4), title='count')\n",
        "plt.gca().spines[['top', 'right']].set_visible(False)"
      ],
      "cell_type": "code",
      "metadata": {
        "id": "MTxGjjsPTK40"
      },
      "execution_count": null,
      "outputs": []
    },
    {
      "cell_type": "markdown",
      "source": [
        "# Preparing func seperated data\n",
        "Now we are going to prepare a dictionary of dataframes to use\n",
        "where the keys are the function ids and the values are the\n",
        "grouped dataframes."
      ],
      "metadata": {
        "id": "bR5OPYfDYqDd"
      }
    },
    {
      "cell_type": "code",
      "source": [
        "# Create the empty dictionary\n",
        "func_to_df = {}\n",
        "\n",
        "# Create the total time range\n",
        "start_time = df['time'].min().floor('10T')\n",
        "end_time = df['time'].max().ceil('10T')\n",
        "all_time_bins = pd.date_range(start=start_time, end=end_time, freq='10T')\n",
        "\n",
        "# Group the raw data by function id\n",
        "func_groups = df.groupby('func')\n",
        "\n",
        "# Iterate through each group and apply the binning and grouping logic\n",
        "for func_id, func_data in func_groups:\n",
        "    # Bin the timestamps into 10-minute intervals\n",
        "    func_data['time_bin'] = func_data['time'].dt.floor('10T')\n",
        "\n",
        "    # Group by the binned intervals and count the number of rows\n",
        "    grouped_func_data = func_data.groupby('time_bin').size().reset_index(name='count')\n",
        "\n",
        "    # Set the binned intervals as the index (optional)\n",
        "    grouped_func_data.set_index('time_bin', inplace=True)\n",
        "\n",
        "    # Reindex to include all time bins, filling missing bins with 0\n",
        "    grouped_func_data = grouped_func_data.reindex(all_time_bins, fill_value=0)\n",
        "\n",
        "    # Store the grouped DataFrame in the dictionary\n",
        "    func_to_df[func_id] = grouped_func_data"
      ],
      "metadata": {
        "id": "dzwxl94gYss_"
      },
      "execution_count": null,
      "outputs": []
    },
    {
      "cell_type": "code",
      "source": [
        "# Iterate through the dictionary and verify that the func specific data is correct\n",
        "\n",
        "for func_id, func_data in func_to_df.items():\n",
        "  print(\"func_id: \", func_id, len(func_data))\n",
        "  func_data['count'].plot(kind='line', figsize=(8, 4), title='count')\n",
        "  plt.gca().spines[['top', 'right']].set_visible(False)\n"
      ],
      "metadata": {
        "id": "DaRCu9K9Z9yO"
      },
      "execution_count": null,
      "outputs": []
    },
    {
      "cell_type": "code",
      "source": [],
      "metadata": {
        "id": "btr9OqMjb4Q7"
      },
      "execution_count": null,
      "outputs": []
    }
  ]
}